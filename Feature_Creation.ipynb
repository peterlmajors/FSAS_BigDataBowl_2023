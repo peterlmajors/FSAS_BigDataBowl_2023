{
 "cells": [
  {
   "attachments": {},
   "cell_type": "markdown",
   "metadata": {},
   "source": [
    "<font size = \"6\"> Fordham Sports Analytics Society Big Data Bowl 2023 - Feature Creation </font>\n",
    "\n",
    "<font size = \"4\"> Convert data into one cleaned data frame that can be used in model creation. </font>\n",
    "\n",
    "- Authors:  Peter Majors, Chris Orlando, Jack Townsend, and Etienne Busnel\n",
    "- Kaggle:  https://www.kaggle.com/competitions/nfl-big-data-bowl-2023/overview (Resources)\n",
    "- Our Github:  https://github.com/peterlmajors/FSAS_BigDataBowl_2023 (Up-To-Date Code)"
   ]
  },
  {
   "cell_type": "code",
   "execution_count": 17,
   "metadata": {},
   "outputs": [],
   "source": [
    "#Import Required Packages\n",
    "\n",
    "#Data Manipulation\n",
    "import pandas as pd\n",
    "import numpy as np\n",
    "import math\n",
    "\n",
    "#Notebook Settings\n",
    "pd.set_option('display.max_columns', 1000)\n",
    "pd.set_option('display.max_rows', 1000)"
   ]
  },
  {
   "cell_type": "code",
   "execution_count": 18,
   "metadata": {},
   "outputs": [],
   "source": [
    "#Import Our Merged DataFrames\n",
    "\n",
    "#All Player Tracking\n",
    "ptrack = pd.read_csv(\"C:/Users/Peter/Python Scripts/Case Competitions/NFL Big Data Bowl 2023/merged_data/ptrack.csv\")\n",
    "\n",
    "#Player Tracking Only On Frames When QB The Target For Pass Rushers, The Pass Rusher Is Known, The Pass Rusher Is In The Immediate Zone, and A Block Occurs\n",
    "ptrack_qb_poss_block = pd.read_csv(\"C:/Users/Peter/Python Scripts/Case Competitions/NFL Big Data Bowl 2023/merged_data/ptrack_qb_poss.csv\")\n",
    "\n",
    "#Play-By-Play Data\n",
    "pbp = pd.read_csv(\"C:/Users/Peter/Python Scripts/Case Competitions/NFL Big Data Bowl 2023/merged_data/pbp.csv\")"
   ]
  },
  {
   "attachments": {},
   "cell_type": "markdown",
   "metadata": {},
   "source": [
    "<font size=\"5\"> Feature 1: Time Blocker Kept Themselves Closer To The Quarterback Than The Blocker After Rusher Enters The Immediate Zone </font>\n",
    "\n",
    "- How Well Can The Blocker Keep The Rusher In Front Of Them?"
   ]
  },
  {
   "cell_type": "code",
   "execution_count": 19,
   "metadata": {},
   "outputs": [],
   "source": [
    "#Find All Times Rusher In The Box\n",
    "ptrack_qb_poss_block_1 = ptrack_qb_poss_block[ptrack_qb_poss_block.rusher_in_imm_zone == 1][['game_play_nfl_Id', 'frameId', 'rusher_in_imm_zone']]\n",
    "\n",
    "#Since Sorted by Frame, Find The First In Each Group\n",
    "ff_in_imm_zone = ptrack_qb_poss_block_1.groupby('game_play_nfl_Id').first().reset_index()[['game_play_nfl_Id', 'frameId']]\n",
    "\n",
    "#Rename Frame Id and Drop Duplicate Rows\n",
    "ff_in_imm_zone = ff_in_imm_zone.rename(columns = {'frameId': 'ff_in_imm_zone'})\n",
    "\n",
    "#Merge This List Data Onto The One With All Frames\n",
    "ptrack_qb_poss_block = ptrack_qb_poss_block.merge(ff_in_imm_zone, on = 'game_play_nfl_Id', how = 'left')"
   ]
  },
  {
   "cell_type": "code",
   "execution_count": 20,
   "metadata": {},
   "outputs": [],
   "source": [
    "#Create Rusher To QB Distance For Each Frame\n",
    "ptrack_qb_poss_block['rusher_dist_from_qb_each_frame'] = np.hypot((ptrack_qb_poss_block.x_rusher - ptrack_qb_poss_block.x_qb), (ptrack_qb_poss_block.y_rusher - ptrack_qb_poss_block.y_qb))\n",
    "\n",
    "#Create Binary, 1 For Closer To QB, 0 For Not\n",
    "ptrack_qb_poss_block['blocker_closer_to_qb_than_rusher'] = np.where(ptrack_qb_poss_block['dist_from_qb'] < ptrack_qb_poss_block['rusher_dist_from_qb_each_frame'], 1, 0)\n",
    "\n",
    "#Filter By Frames After The Initial Entry And For Each Play Count The Number of Frames The Blocker Is Closer\n",
    "blocker_closer_to_qb = ptrack_qb_poss_block[ptrack_qb_poss_block.frameId > ptrack_qb_poss_block.ff_in_imm_zone].groupby(\"game_play_nfl_Id\")['blocker_closer_to_qb_than_rusher'].sum().reset_index()\n",
    "\n",
    "#Rename Column\n",
    "blocker_closer_to_qb = blocker_closer_to_qb.rename(columns = {'blocker_closer_to_qb_than_rusher': 'time_blocker_closer_to_qb_than_rusher'})\n",
    "\n",
    "#Merge Back Onto The Main Data\n",
    "ptrack_qb_poss_block = ptrack_qb_poss_block.merge(blocker_closer_to_qb, on = 'game_play_nfl_Id', how = 'left')"
   ]
  },
  {
   "attachments": {},
   "cell_type": "markdown",
   "metadata": {},
   "source": [
    "<font size=\"5\"> Feature 2: Speed Of Pass Rusher Coming Out Of The Immediate Zone </font>"
   ]
  },
  {
   "attachments": {},
   "cell_type": "markdown",
   "metadata": {},
   "source": [
    "- Attempts To Account For The Momentum That A Rusher Has Coming Into A Block\n",
    "\n",
    "- With an Immediate Zone 1.5 Yards In Depth and 2 Yards Across\n",
    "\n",
    "- Speed On First Frame Out of The Immediate Zone"
   ]
  },
  {
   "cell_type": "code",
   "execution_count": 21,
   "metadata": {},
   "outputs": [],
   "source": [
    "#Find All Frames After The Rusher Has Entered The Immediate Zone And Where They Are Not In The Immediate Zone\n",
    "ptrack_qb_poss_block_after_ff_in_imm_zone = ptrack_qb_poss_block.loc[(ptrack_qb_poss_block['frameId'] > ptrack_qb_poss_block['ff_in_imm_zone']) & (ptrack_qb_poss_block['rusher_in_imm_zone'] == 0)]\n",
    "\n",
    "#Now Group This By Play And Find The First Row, While Having Sorted By FrameId\n",
    "ptrack_qb_poss_block_after_ff_in_imm_zone = ptrack_qb_poss_block_after_ff_in_imm_zone.groupby('game_play_nfl_Id')[['game_play_nfl_Id', 'frameId']].first().reset_index(drop = True)\n",
    "\n",
    "#Rename First Frame Not In Imm Zone For First Time\n",
    "ptrack_qb_poss_block_after_ff_in_imm_zone = ptrack_qb_poss_block_after_ff_in_imm_zone.rename(columns = {'frameId': 'ff_out_imm_zone'})\n",
    "\n",
    "#Merge Speed of The Rusher In The First Frame Imm Zone Onto Main\n",
    "ptrack_qb_poss_block = ptrack_qb_poss_block.merge(ptrack_qb_poss_block_after_ff_in_imm_zone, on = 'game_play_nfl_Id', how = 'left')\n",
    "\n",
    "#Fill Null Cells With Last Frame of QB Possession\n",
    "ptrack_qb_poss_block['ff_out_imm_zone'] = ptrack_qb_poss_block['ff_out_imm_zone'].fillna(ptrack_qb_poss_block['frame_last'])"
   ]
  },
  {
   "cell_type": "code",
   "execution_count": 22,
   "metadata": {},
   "outputs": [],
   "source": [
    "#Speed at First Frame Out The Imm Zone\n",
    "sa_ff_out_imm_zone = ptrack_qb_poss_block[ptrack_qb_poss_block.ff_out_imm_zone == ptrack_qb_poss_block.frameId][['game_play_nfl_Id', 's_rusher']] \n",
    "\n",
    "#Rename Speed and Acceleration Columns\n",
    "sa_ff_out_imm_zone = sa_ff_out_imm_zone.rename(columns = {'s_rusher': 's_rusher_ff_out_imm_zone'}).drop_duplicates()\n",
    "\n",
    "#Merge Speed of The Rusher In The First Frame Imm Zone Onto Main\n",
    "ptrack_qb_poss_block = ptrack_qb_poss_block.merge(sa_ff_out_imm_zone, on = 'game_play_nfl_Id', how = 'left')"
   ]
  },
  {
   "attachments": {},
   "cell_type": "markdown",
   "metadata": {},
   "source": [
    "<font size=\"5\"> Feature 3: Distance Traveled From Start To End Of Immediate Zone To QB </font>\n",
    "\n",
    "- Attempts To Answer The Question of How Much A Pass Blocker Was \"Pushed\" During Their Handling Of A Rusher\n",
    "\n",
    "- Only Concerns The First Time (If There Is More Than One) That A Rusher Was In The Pass Blocker's Immediate Zone \n",
    "\n",
    "- If The Pass Rusher Never Leaves The Immediate Zone, The End of The Immediate Zone Is The End Of QB Possession\n",
    "\n",
    "- What Is The Raw Stopping Power of Our Offensive Linemen?"
   ]
  },
  {
   "cell_type": "code",
   "execution_count": 23,
   "metadata": {},
   "outputs": [],
   "source": [
    "#Find Difference In Distance From Start of End of Immediate Zone\n",
    "\n",
    "#Create Rusher To QB Distance\n",
    "ptrack_qb_poss_block['rusher_dist_from_qb'] = np.hypot((ptrack_qb_poss_block.x_rusher - ptrack_qb_poss_block.x_qb), (ptrack_qb_poss_block.y_rusher - ptrack_qb_poss_block.y_qb))\n",
    "\n",
    "#Distance Beginning & End of Imm Zone\n",
    "rusher_dist_qb_beg_imm_zone = ptrack_qb_poss_block[ptrack_qb_poss_block.ff_in_imm_zone == ptrack_qb_poss_block.frameId][['game_play_nfl_Id', 'rusher_dist_from_qb']]\n",
    "rusher_dist_qb_end_imm_zone = ptrack_qb_poss_block[ptrack_qb_poss_block.ff_out_imm_zone == ptrack_qb_poss_block.frameId][['game_play_nfl_Id', 'rusher_dist_from_qb']]\n",
    "\n",
    "#Rename Distance DFs Beginning & End of Imm Zone\n",
    "rusher_dist_qb_beg_imm_zone = rusher_dist_qb_beg_imm_zone.rename(columns = {'rusher_dist_from_qb': 'rusher_dist_from_qb_ff_in_imm'}).drop_duplicates()\n",
    "rusher_dist_qb_end_imm_zone = rusher_dist_qb_end_imm_zone.rename(columns = {'rusher_dist_from_qb': 'rusher_dist_from_qb_ff_out_imm'}).drop_duplicates()\n",
    " \n",
    "#Merge Distance At Beginning & End Of Imm Zone\n",
    "ptrack_qb_poss_block = ptrack_qb_poss_block.merge(rusher_dist_qb_beg_imm_zone, on = 'game_play_nfl_Id', how = 'left')\n",
    "ptrack_qb_poss_block = ptrack_qb_poss_block.merge(rusher_dist_qb_end_imm_zone, on = 'game_play_nfl_Id', how = 'left')\n",
    "\n",
    "#Difference In Distance From Beginning To End of Imm Zone (Positive = Gained Ground)\n",
    "ptrack_qb_poss_block['rusher_dist_from_qb_diff_beg_end_imm_zone'] = ptrack_qb_poss_block.rusher_dist_from_qb_ff_in_imm - ptrack_qb_poss_block.rusher_dist_from_qb_ff_out_imm "
   ]
  },
  {
   "attachments": {},
   "cell_type": "markdown",
   "metadata": {},
   "source": [
    "<font size=\"5\"> Feature 4: Difference Between The Direction Of The Rusher And Orientation Of Pass Blocker First Frame of Immediate Zone </font>\n",
    "\n",
    "- Attempts To Determine If A Pass Rusher Ran Into The Blocker Straight On Or At And Angle\n",
    "\n",
    "- Blocks Where Rushers Come In From Creative Angles But Are Handled Well By The Pass Blocker Should Be Factored\n",
    "\n",
    "- How Good Is The Pass Blocker At Orienting Themselves Toward The Pass Rusher?"
   ]
  },
  {
   "cell_type": "code",
   "execution_count": 24,
   "metadata": {},
   "outputs": [],
   "source": [
    "#Difference Between Rusher Direction and Blocker Orientation At First Frame Beginning Of Immediate Zone\n",
    "diff_btw_rusher_dir_blocker_o_beg_imm_zone = ptrack_qb_poss_block[ptrack_qb_poss_block.ff_in_imm_zone == ptrack_qb_poss_block.frameId][['game_play_nfl_Id', 'diff_btw_rusher_dir_blocker_o']]\n",
    "\n",
    "#Rename to Difference Rusher Direction and Blocker Orientation At First Frame In Immediate Zone\n",
    "diff_btw_rusher_dir_blocker_o_beg_imm_zone = diff_btw_rusher_dir_blocker_o_beg_imm_zone.rename(columns = {'diff_btw_rusher_dir_blocker_o': 'diff_btw_rusher_dir_blocker_o_ff_in_imm'}).drop_duplicates()\n",
    " \n",
    "#Merge Difference Rusher Direction and Blocker Orientation At First Frame In Immediate Zone Onto Main Dataframe\n",
    "ptrack_qb_poss_block = ptrack_qb_poss_block.merge(diff_btw_rusher_dir_blocker_o_beg_imm_zone, on = 'game_play_nfl_Id', how = 'left')\n"
   ]
  },
  {
   "attachments": {},
   "cell_type": "markdown",
   "metadata": {},
   "source": [
    "<font size=\"5\"> Feature 5: Difference In Orientation Of Pass Blocker Between First And Last Frame Of Rusher Being In Immediate Zone </font>\n",
    "\n",
    "- Attempts to Answer How Much An Offensive Lineman Was \"Spun\" In By The Pass Rusher\n",
    "\n",
    "- The Difference Is Measured In Absolute Value, So The Change In Orientation Is Agnostic To Direction \"Spun\"\n",
    "\n",
    "- How Well Can A Pass Blocker Hold Shoulder Angle When Engaged?"
   ]
  },
  {
   "cell_type": "code",
   "execution_count": 25,
   "metadata": {},
   "outputs": [],
   "source": [
    "#Orientation Beginning & End of Imm Zone\n",
    "o_beg_imm_zone = ptrack_qb_poss_block[ptrack_qb_poss_block.ff_in_imm_zone == ptrack_qb_poss_block.frameId][['game_play_nfl_Id', 'o']]\n",
    "o_end_imm_zone = ptrack_qb_poss_block[ptrack_qb_poss_block.ff_out_imm_zone == ptrack_qb_poss_block.frameId][['game_play_nfl_Id', 'o']]\n",
    "\n",
    "#Rename Orientation DFs Beginning & End of Imm Zone\n",
    "o_beg_imm_zone = o_beg_imm_zone.rename(columns = {'o': 'o_ff_in_imm'}).drop_duplicates()\n",
    "o_end_imm_zone = o_end_imm_zone.rename(columns = {'o': 'o_ff_out_imm'}).drop_duplicates()\n",
    " \n",
    "#Merge Orientation At Beginning & End Of Imm Zone\n",
    "ptrack_qb_poss_block = ptrack_qb_poss_block.merge(o_beg_imm_zone, on = 'game_play_nfl_Id', how = 'left')\n",
    "ptrack_qb_poss_block = ptrack_qb_poss_block.merge(o_end_imm_zone, on = 'game_play_nfl_Id', how = 'left')\n",
    "\n",
    "#Difference In Orientation From Beginning To End of Imm Zone (Absolute Value)\n",
    "ptrack_qb_poss_block['blocker_o_diff_beg_end_imm_zone'] = abs(ptrack_qb_poss_block.o_ff_in_imm - ptrack_qb_poss_block.o_ff_out_imm)"
   ]
  },
  {
   "attachments": {},
   "cell_type": "markdown",
   "metadata": {},
   "source": [
    "<font size=\"5\"> Feature 6: Time The Pass Rusher Was Initially Kept In The Immediate Zone </font>\n",
    "\n",
    "- For Frames When The Rusher Enters The Immediate Zone Multiple Times In A Play, The Number of Frames They Were In The Immediate Zone The First Time\n",
    "\n",
    "- If The Rusher Only Enters The Immediate Zone Once In A Play, The Total Number of Seconds\n",
    "\n",
    "- How Long Can A Pass Rusher Initially Maintain A Pass Rusher In Their Immediate Zone?"
   ]
  },
  {
   "cell_type": "code",
   "execution_count": 26,
   "metadata": {},
   "outputs": [],
   "source": [
    "#Find The Number of Seconds \n",
    "ptrack_qb_poss_block['time_rusher_in_imm_zone'] = ptrack_qb_poss_block.ff_out_imm_zone - ptrack_qb_poss_block.ff_in_imm_zone "
   ]
  },
  {
   "attachments": {},
   "cell_type": "markdown",
   "metadata": {},
   "source": [
    "<font size=\"5\"> Feature 7: Time After Initially Leaving The Immediate Zone A Rusher Is In The Immediate Zone For Remainder Of Play </font>\n",
    "\n",
    "- When Rusher Enters The Immediate Zone Multiple Times In A Play, Total Number of Frames They Were In The Immediate Zone For The Remainder Of The Play\n",
    "\n",
    "- If The Rusher Only Enters The Immediate Zone Once In A Play, This Feature Is Left Null\n",
    "\n",
    "- Acts As Insurance In Case A Rusher Comes Out Of The Immediate Zone For A Frame Or Two But Is Still Engaged With The Blocker\n",
    "\n",
    "- How Well Can Our Pass Blocker Recover On Their Target If They Originally \"Failed\" In Keeping Them In Front of Them?"
   ]
  },
  {
   "cell_type": "code",
   "execution_count": 27,
   "metadata": {},
   "outputs": [],
   "source": [
    "#Filter By Frames After The Imm Zone\n",
    "ptrack_qb_poss_block_after_ff_out_imm_zone = ptrack_qb_poss_block.loc[ptrack_qb_poss_block['frameId'] > ptrack_qb_poss_block['ff_out_imm_zone']]\n",
    "\n",
    "#Sum of All Times A Rusher Is In The Immediate Zone Following The Frame In Which They Initially Left\n",
    "ptrack_qb_poss_block_after_ff_out_imm_zone = ptrack_qb_poss_block_after_ff_out_imm_zone.groupby('game_play_nfl_Id')['rusher_in_imm_zone'].sum().reset_index() \n",
    "\n",
    "#Rename Time In The Immediate Zone After First Time\n",
    "ptrack_qb_poss_block_after_ff_out_imm_zone = ptrack_qb_poss_block_after_ff_out_imm_zone.rename(columns = {'rusher_in_imm_zone': 'time_in_imm_zone_after_out'}).drop_duplicates()\n",
    "\n",
    "#Merge Time Each Play In Immediate Zone Post Immediate Zone\n",
    "ptrack_qb_poss_block = ptrack_qb_poss_block.merge(ptrack_qb_poss_block_after_ff_out_imm_zone, on = 'game_play_nfl_Id', how = 'left')"
   ]
  },
  {
   "attachments": {},
   "cell_type": "markdown",
   "metadata": {},
   "source": [
    "<font size=\"5\"> Target Variable: Distance Rusher From The Quarterback End Of Possession </font>"
   ]
  },
  {
   "cell_type": "code",
   "execution_count": 28,
   "metadata": {},
   "outputs": [],
   "source": [
    "#Match The RusherID And Average Distance\n",
    "dist_rusher_from_qb_end_poss = ptrack_qb_poss_block[ptrack_qb_poss_block.frameId == ptrack_qb_poss_block.frame_last][['game_play_nfl_Id', 'rusher_dist_from_qb']].reset_index(drop = True)\n",
    "\n",
    "#Rename The Column\n",
    "dist_rusher_from_qb_end_poss = dist_rusher_from_qb_end_poss.rename(columns = {'rusher_dist_from_qb': 'rusher_dist_from_qb_end_poss'})\n",
    "\n",
    "#Merge Onto The Main Data Frame\n",
    "ptrack_qb_poss_block = ptrack_qb_poss_block.merge(dist_rusher_from_qb_end_poss, on = 'game_play_nfl_Id', how = 'left')"
   ]
  },
  {
   "attachments": {},
   "cell_type": "markdown",
   "metadata": {},
   "source": [
    "<font size=\"4\"> Filter To One Row For Each Play and Include Weeks From PBP Data</font>"
   ]
  },
  {
   "cell_type": "code",
   "execution_count": 29,
   "metadata": {},
   "outputs": [],
   "source": [
    "#First Frame Of Each Play\n",
    "ptrack_qb_poss_block = ptrack_qb_poss_block[ptrack_qb_poss_block.frame_first == ptrack_qb_poss_block.frameId]"
   ]
  },
  {
   "cell_type": "code",
   "execution_count": 30,
   "metadata": {},
   "outputs": [],
   "source": [
    "#Find Week of Each Game\n",
    "week_game = pbp[['gameId', 'week']].drop_duplicates()\n",
    "\n",
    "#Merge Onto Main Data\n",
    "ptrack_qb_poss_block = ptrack_qb_poss_block.merge(week_game, on = 'gameId', how = 'left')"
   ]
  },
  {
   "attachments": {},
   "cell_type": "markdown",
   "metadata": {},
   "source": [
    "<font size=\"4\"> Filter Columns In Main Data Frame To Prep For Model Building </font>"
   ]
  },
  {
   "cell_type": "code",
   "execution_count": 34,
   "metadata": {},
   "outputs": [],
   "source": [
    "#Simplify The Data Frame To Only Include Columns Of Interest For The Model\n",
    "df = ptrack_qb_poss_block[['displayName', \"game_play_nfl_Id\", 'pff_positionLinedUp', 'officialPosition', \"ff_in_imm_zone\", \"ff_out_imm_zone\", \"s_rusher_ff_out_imm_zone\",\n",
    "                    'rusher_dist_from_qb_diff_beg_end_imm_zone', 'time_blocker_closer_to_qb_than_rusher', 'diff_btw_rusher_dir_blocker_o_ff_in_imm', \n",
    "                    'blocker_o_diff_beg_end_imm_zone', 'time_rusher_in_imm_zone', 'time_in_imm_zone_after_out', 'rusher_dist_from_qb_end_poss', \n",
    "                    'pff_blockType', 'pff_hitAllowed', 'pff_hurryAllowed', 'pff_sackAllowed', 'nflId_blocker', 'nflId_rusher', 'displayName_rusher', \n",
    "                    'pff_positionLinedUp_rusher', 'team', 'week']]"
   ]
  },
  {
   "attachments": {},
   "cell_type": "markdown",
   "metadata": {},
   "source": [
    "<font size=\"4\"> Export The Final Data Frame For The Model </font>"
   ]
  },
  {
   "cell_type": "code",
   "execution_count": 35,
   "metadata": {},
   "outputs": [],
   "source": [
    "#Export The df For The Model\n",
    "df.to_csv(\"C:/Users/Peter/Python Scripts/Case Competitions/NFL Big Data Bowl 2023/merged_data/df_model.csv\")"
   ]
  }
 ],
 "metadata": {
  "kernelspec": {
   "display_name": "Python 3",
   "language": "python",
   "name": "python3"
  },
  "language_info": {
   "codemirror_mode": {
    "name": "ipython",
    "version": 3
   },
   "file_extension": ".py",
   "mimetype": "text/x-python",
   "name": "python",
   "nbconvert_exporter": "python",
   "pygments_lexer": "ipython3",
   "version": "3.10.9 (tags/v3.10.9:1dd9be6, Dec  6 2022, 20:01:21) [MSC v.1934 64 bit (AMD64)]"
  },
  "orig_nbformat": 4,
  "vscode": {
   "interpreter": {
    "hash": "0734c24ccee641e8c1aa56e5abe0e6d58c5e64b0808290a0db05a6d9678c0817"
   }
  }
 },
 "nbformat": 4,
 "nbformat_minor": 2
}
