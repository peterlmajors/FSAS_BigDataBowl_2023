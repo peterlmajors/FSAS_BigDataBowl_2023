{
 "cells": [
  {
   "attachments": {},
   "cell_type": "markdown",
   "metadata": {},
   "source": [
    "<font size = \"6\"> Fordham Sports Analytics Society Big Data Bowl 2023 - Data Preparation </font>\n",
    "\n",
    "<font size = \"4\"> Prepare data sets provided in the case for our exploratory work and model building. </font>\n",
    "\n",
    "- Authors:  Peter Majors, Chris Orlando, Jack Townsend, and Etienne Busnel\n",
    "- Kaggle:  https://www.kaggle.com/competitions/nfl-big-data-bowl-2023/overview (Resources)\n",
    "- Our Github:  https://github.com/peterlmajors/FSAS_BigDataBowl_2023 (Up-To-Date Code)"
   ]
  },
  {
   "attachments": {},
   "cell_type": "markdown",
   "metadata": {},
   "source": [
    "<font size=\"5\"> Importing And Merging Original Data</font>"
   ]
  },
  {
   "cell_type": "code",
   "execution_count": null,
   "metadata": {},
   "outputs": [],
   "source": [
    "#Import Required Packages\n",
    "import pandas as pd\n",
    "import numpy as np\n",
    "import math\n",
    "\n",
    "#Notebook Settings\n",
    "pd.set_option('display.max_columns', 1000)\n",
    "pd.set_option('display.max_rows', 1000)"
   ]
  },
  {
   "cell_type": "code",
   "execution_count": null,
   "metadata": {},
   "outputs": [],
   "source": [
    "#Importing Kaggle Data\n",
    "\n",
    "#Games - Basic Information On All Games\n",
    "games = pd.read_csv(\"C:/Users/Peter/Python Scripts/Case Competitions/NFL Big Data Bowl 2023/case_data/games.csv\")\n",
    "\n",
    "#pffScout - PFF Judgements For Each Player On Each Play\n",
    "pffScout = pd.read_csv(\"C:/Users/Peter/Python Scripts/Case Competitions/NFL Big Data Bowl 2023/case_data/pffScoutingData.csv\")\n",
    "\n",
    "#Players - Basics On Players\n",
    "players = pd.read_csv(\"C:/Users/Peter/Python Scripts/Case Competitions/NFL Big Data Bowl 2023/case_data/players.csv\")\n",
    "\n",
    "#Plays - Everthing About Specific Plays\n",
    "plays = pd.read_csv(\"C:/Users/Peter/Python Scripts/Case Competitions/NFL Big Data Bowl 2023/case_data/plays.csv\")\n",
    "\n",
    "#Week - Frame-By-Frame Player Tracking\n",
    "week1 = pd.read_csv(\"C:/Users/Peter/Python Scripts/Case Competitions/NFL Big Data Bowl 2023/case_data/week1.csv\")\n",
    "week2 = pd.read_csv(\"C:/Users/Peter/Python Scripts/Case Competitions/NFL Big Data Bowl 2023/case_data/week2.csv\")\n",
    "week3 = pd.read_csv(\"C:/Users/Peter/Python Scripts/Case Competitions/NFL Big Data Bowl 2023/case_data/week3.csv\")\n",
    "week4 = pd.read_csv(\"C:/Users/Peter/Python Scripts/Case Competitions/NFL Big Data Bowl 2023/case_data/week4.csv\")\n",
    "week5 = pd.read_csv(\"C:/Users/Peter/Python Scripts/Case Competitions/NFL Big Data Bowl 2023/case_data/week5.csv\")\n",
    "week6 = pd.read_csv(\"C:/Users/Peter/Python Scripts/Case Competitions/NFL Big Data Bowl 2023/case_data/week6.csv\")\n",
    "week7 = pd.read_csv(\"C:/Users/Peter/Python Scripts/Case Competitions/NFL Big Data Bowl 2023/case_data/week7.csv\")\n",
    "week8 = pd.read_csv(\"C:/Users/Peter/Python Scripts/Case Competitions/NFL Big Data Bowl 2023/case_data/week8.csv\")\n",
    "\n",
    "#Import PFF Data On QB Pressures\n",
    "pff_qb_pressure = pd.read_csv(\"C:/Users/Peter/Python Scripts/Case Competitions/NFL Big Data Bowl 2023/merged_data/pff_qb_pressure.csv\")"
   ]
  },
  {
   "cell_type": "code",
   "execution_count": null,
   "metadata": {},
   "outputs": [],
   "source": [
    "#Merging All Data Together (Not Needed If Importing Merged DataFrames In Next Cell)\n",
    "\n",
    "#Merge Game Info And Play Info, Each Play Now Has More Context\n",
    "pbp = pd.merge(games, plays, how = \"inner\", on = \"gameId\")\n",
    "\n",
    "# #Append All Week Dataframes #Prefer For Weeks To Stay As Separate\n",
    "week = pd.DataFrame()\n",
    "weeks = [week1, week2, week3, week4, week5, week6, week7, week8]\n",
    "for i in range(0,len(weeks)):\n",
    "    week = week.append(weeks[i])\n",
    "\n",
    "# #Merge Player Tracking, PFF Grading, and Player History Data\n",
    "ptrack = pd.merge(pffScout, week, how = \"inner\", on = [\"gameId\", \"playId\", \"nflId\"])\n",
    "ptrack = pd.merge(ptrack, players, how = \"inner\", on = [\"nflId\"])\n",
    "\n",
    "#Export pbp Data Frame For Safe Keeping\n",
    "pbp.to_csv(\"C:/Users/Peter/Python Scripts/Case Competitions/NFL Big Data Bowl 2023/merged_data/pbp.csv\")"
   ]
  },
  {
   "attachments": {},
   "cell_type": "markdown",
   "metadata": {},
   "source": [
    "<font size=\"5\"> Find Distance of Each Player From The Quarterback </font>"
   ]
  },
  {
   "cell_type": "code",
   "execution_count": null,
   "metadata": {},
   "outputs": [],
   "source": [
    "#Find QB Distance Tracking and Merge Onto ptrack DataFrame (Distance As Yards)\n",
    "ptrack_qb = ptrack[ptrack.pff_positionLinedUp == \"QB\"]\n",
    "ptrack_qb = ptrack_qb[['gameId', 'playId', 'frameId', 'x','y', 's', 'a', 'dis','o','dir']]\n",
    "ptrack = pd.merge(ptrack, ptrack_qb, how = 'inner', on = ['gameId', 'playId', 'frameId'])\n",
    "ptrack = ptrack.rename(columns = {\"x_x\":\"x\", \"y_x\": \"y\", \"s_x\": \"s\", \"a_x\": \"a\", \"dis_x\": \"dis\", \"o_x\": \"o\", \"dir_x\": \"dir\",\n",
    "                       \"x_y\":\"x_qb\", \"y_y\": \"y_qb\", \"s_y\": \"s_qb\", \"a_y\": \"a_qb\", \"dis_y\": \"dis_qb\", \"o_y\": \"o_qb\", \"dir_y\": \"dir_qb\"})\n",
    "ptrack['dist_from_qb'] = np.hypot((ptrack.x - ptrack.x_qb), (ptrack.y - ptrack.y_qb))\n",
    "\n",
    "#Remove NaN Values From ptrack\n",
    "ptrack = ptrack.fillna(0)"
   ]
  },
  {
   "attachments": {},
   "cell_type": "markdown",
   "metadata": {},
   "source": [
    "<font size=\"5\"> Find Angle of Each Player From The Quarterback and Orientation Deviation From That Angle</font>"
   ]
  },
  {
   "cell_type": "code",
   "execution_count": null,
   "metadata": {},
   "outputs": [],
   "source": [
    "#Calculate Angles Between Players And QB (Angles Work Same As Orientation and Direction Metrics From Kaggle)\n",
    "ptrack['angle_to_qb'] = round((90 - np.degrees(np.arctan2(((ptrack.y_qb - ptrack.y)**2), (ptrack.x_qb - ptrack.x)**2))),2)\n",
    "\n",
    "#Adjust For Quadrants Relative To QB Position On The Field\n",
    "ptrack.loc[(ptrack.y < ptrack.y_qb) & (ptrack.x > ptrack.x_qb), 'angle_to_qb'] = ptrack.angle_to_qb #Bottom Right\n",
    "ptrack.loc[(ptrack.y < ptrack.y_qb) & (ptrack.x < ptrack.x_qb), 'angle_to_qb'] = ptrack.angle_to_qb #Bottom Left\n",
    "ptrack.loc[(ptrack.y > ptrack.y_qb) & (ptrack.x < ptrack.x_qb), 'angle_to_qb'] = ptrack.angle_to_qb #Top Left\n",
    "\n",
    "#Deviation Between Orientation of Player And Their Angle To The Quarterback\n",
    "#Evaluating Offensive Linemen, This Means We Want To Measure If Their Backs Are To The QB They're Protecting\n",
    "#Positive = Player's Left Shoulder Turned Towards QB So Many Degrees // Negative = Player's Right Shoudler Turned Towards QB So Many Degrees\n",
    "ptrack['angle_to_qb_diff_o'] = ptrack.o - ptrack.angle_to_qb\n",
    "\n",
    "#Change QB Angles To Themselves To Null\n",
    "ptrack.loc[ptrack['pff_positionLinedUp'] == 'QB', 'angle_to_qb'] = np.nan\n",
    "ptrack.loc[ptrack['pff_positionLinedUp'] == 'QB', 'angle_to_qb_diff_o'] = np.nan\n"
   ]
  },
  {
   "attachments": {},
   "cell_type": "markdown",
   "metadata": {},
   "source": [
    "<font size = '5'> Determine When Pass Rushers Enter Immediate Zone On Known Blocking Plays (First Block In Play) </font>"
   ]
  },
  {
   "attachments": {},
   "cell_type": "markdown",
   "metadata": {},
   "source": [
    "<b> Immediate Zone Depth </b> - 1.5 Yard\n",
    "\n",
    "<b> Immediate Zone Width </b> - 2 Yards"
   ]
  },
  {
   "cell_type": "code",
   "execution_count": null,
   "metadata": {},
   "outputs": [],
   "source": [
    "#Find All Tracking Data For All Frames Where Blocks Occur Between Rushers and Passers\n",
    "\n",
    "#Create Data Frame With Only Pass Blocking Plays\n",
    "ptrack_block = ptrack.loc[ptrack['pff_blockType'] != 0]\n",
    "\n",
    "#Find Rows With Players Who Were Blocked Against (And Who Have The Role of Pass Rusher)\n",
    "ptrack_block_rushers = ptrack.loc[(ptrack.nflId.isin(ptrack_block.pff_nflIdBlockedPlayer)) & (ptrack.pff_role == \"Pass Rush\")]\n",
    "ptrack_block_rushers = ptrack_block_rushers[['gameId', 'playId', 'nflId', 'frameId', 'pff_role', 'pff_positionLinedUp', 'x', 'y', 's', 'a', 'dis', 'o', 'dir', 'displayName']]\n",
    "\n",
    "#Merge Pass Blocking Plays Data With Pass Rusher Data\n",
    "ptrack_imm_box = ptrack_block.merge(ptrack_block_rushers, left_on = ['gameId', 'playId', 'pff_nflIdBlockedPlayer', 'frameId'], right_on = ['gameId', 'playId', 'nflId', 'frameId'], how = 'inner')\n",
    "\n",
    "#Reduce To Columns Of Interest\n",
    "ptrack_imm_box = ptrack_imm_box[['gameId', 'playId', 'nflId_x', 'frameId', 'pff_role_x', 'pff_positionLinedUp_x', 'pff_blockType','x_x', 'y_x', 's_x', 'a_x', 'dis_x', 'o_x', 'dir_x', 'displayName_x','nflId_y', 'pff_role_y', 'pff_positionLinedUp_y', 'x_y', 'y_y', 's_y', 'a_y', 'dis_y', 'o_y', 'dir_y', 'displayName_y']]\n",
    "\n",
    "#Rename Columns\n",
    "ptrack_imm_box = ptrack_imm_box.rename(columns = {\"nflId_x\":\"nflId_blocker\", \"displayName_x\": \"displayName_blocker\", \"pff_role_x\": \"pff_role_blocker\", \"pff_positionLinedUp_x\": \"pff_positionLinedUp_blocker\", \"x_x\": \"x_blocker\", \"y_x\": \"y_blocker\", \"s_x\": \"s_blocker\", \"a_x\": \"a_blocker\", \"dis_x\": \"dis_blocker\", \"o_x\": \"o_blocker\", \"dir_x\": \"dir_blocker\", \"nflId_y\":\"nflId_rusher\", \"displayName_y\": \"displayName_rusher\", \"pff_role_y\": \"pff_role_rusher\", \"pff_positionLinedUp_y\": \"pff_positionLinedUp_rusher\", \"x_y\": \"x_rusher\", \"y_y\": \"y_rusher\", \"s_y\": \"s_rusher\", \"a_y\": \"a_rusher\", \"dis_y\": \"dis_rusher\", \"o_y\": \"o_rusher\", \"dir_y\": \"dir_rusher\"})\n",
    "\n",
    "#Calculate Distance Between Pass Blocker And Pass Rusher at Each Frame\n",
    "ptrack_imm_box['blocker_rusher_distance'] = round(np.hypot((ptrack_imm_box.y_blocker - ptrack_imm_box.y_rusher), (ptrack_imm_box.x_blocker - ptrack_imm_box.x_rusher)),2)\n",
    "\n",
    "#Calculate Difference Between Rusher Direction and Blocker Orientation\n",
    "ptrack_imm_box['diff_btw_rusher_dir_blocker_o'] = abs((ptrack_imm_box.dir_rusher - 180) - ptrack_imm_box.o_blocker)"
   ]
  },
  {
   "cell_type": "code",
   "execution_count": null,
   "metadata": {},
   "outputs": [],
   "source": [
    "#Define Function To Determine If The Pass Rusher Is In The Zone On Each Play\n",
    "\n",
    "def rusher_in_imm_zone(o_line,x_line,y_line,x_rush,y_rush): #o_line Refers To Orientation Of Pass Blocker\n",
    "\n",
    "    length = 1.5 #Depth of The Immediate Zone\n",
    "    width = 2 #Width Of The Immediate Zone\n",
    "\n",
    "    o_line_rad = math.radians(o_line)\n",
    "    in_zone = 0\n",
    "\n",
    "    resx_1 = x_line - .5 * width * math.cos(o_line_rad)\n",
    "    resx_2 = resx_1 + length * math.sin(o_line_rad)\n",
    "    resx_3 = x_line + .5 * width * math.cos(o_line_rad)\n",
    "    resx_4 = x_line + .5 * width * math.cos(o_line_rad) + length * math.sin(o_line_rad)\n",
    "\n",
    "    resy_3 = y_line - .5 * width * math.sin(o_line_rad)\n",
    "    resy_4 = resy_3 + length * math.cos(o_line_rad)\n",
    "    resy_1 = y_line + .5 * width * math.sin(o_line_rad)\n",
    "    resy_2 = y_line + .5 * width * math.sin(o_line_rad) + length * math.cos(o_line_rad)\n",
    "    \n",
    "    x_min = min(resx_1,resx_2,resx_3,resx_4)\n",
    "    x_max = max(resx_1,resx_2,resx_3,resx_4)\n",
    "\n",
    "    if ((x_min <= x_rush) & (x_max >= x_rush)):\n",
    "        y_to_x_dict = {resy_1:resx_1, resy_2:resx_2, resy_3:resx_3, resy_4:resx_4}\n",
    "        x_to_y_dict = {resx_1:resy_1, resx_2:resy_2, resx_3:resy_3, resx_4:resy_4}\n",
    "        y_max = max(resy_1,resy_2,resy_3,resy_4)\n",
    "        y_min = min(resy_1,resy_2,resy_3,resy_4)\n",
    "\n",
    "        x_top = y_to_x_dict[y_max]\n",
    "        x_bottom = y_to_x_dict[y_min]\n",
    "        y_dec, y_max_at_x_rush, y_min_at_x_rush = 0, 0, 0\n",
    "\n",
    "        if (o_line%90 == 0): #Avoid Undefined Slope Errors, Dictionary With Multiple Keys\n",
    "            y_max_at_x_rush = y_max\n",
    "            y_min_at_x_rush = y_min\n",
    "\n",
    "        else:\n",
    "            #Find Max Value Rusher's y Coordinate Can Be In Zone\n",
    "            if x_top >= x_rush:\n",
    "                slope = (y_max - x_to_y_dict[x_min]) / (x_top - x_min) \n",
    "                y_int_top = y_max - slope*x_top\n",
    "                y_max_at_x_rush = slope*x_rush + y_int_top\n",
    "\n",
    "            else:\n",
    "                slope = (x_to_y_dict[x_max] - y_max) / (x_max - x_top)\n",
    "                y_int_top = y_max - slope*x_top\n",
    "                y_int_bottom = y_min - slope*x_bottom\n",
    "                y_max_at_x_rush = slope*x_rush + y_int_top\n",
    "\n",
    "            #Find Min Value Rusher's y Coordinate Can Be In Zone\n",
    "            if x_bottom >= x_rush:\n",
    "                slope2 = (y_min - x_to_y_dict[x_min]) / (x_bottom - x_min)\n",
    "                y_int_bottom = y_min - slope2*x_bottom\n",
    "                y_min_at_x_rush = slope2*x_rush + y_int_bottom\n",
    "\n",
    "            else:\n",
    "                slope2 = (x_to_y_dict[x_max] - y_min) / (x_max - x_bottom)\n",
    "                y_int_bottom = y_min - slope2*x_bottom\n",
    "                y_min_at_x_rush = slope2*x_rush + y_int_bottom\n",
    "\n",
    "        #If Rusher y In Between Above Two Values, They Are In The Immediate Zone\n",
    "        if ((y_rush >= y_min_at_x_rush) & (y_rush <= y_max_at_x_rush)):\n",
    "            in_zone = 1\n",
    "\n",
    "    return in_zone "
   ]
  },
  {
   "cell_type": "code",
   "execution_count": null,
   "metadata": {},
   "outputs": [],
   "source": [
    "#Binary Column Created Determining If A Rusher Is In A Pass Blocker's Immediate Zone\n",
    "for i in range(len(ptrack_imm_box)):\n",
    "    ptrack_imm_box.at[i, \"rusher_in_imm_zone\"] = rusher_in_imm_zone(ptrack_imm_box.at[i, \"o_blocker\"], ptrack_imm_box.at[i, \"x_blocker\"], ptrack_imm_box.at[i, \"y_blocker\"], ptrack_imm_box.at[i, \"x_rusher\"], ptrack_imm_box.at[i, \"y_rusher\"])"
   ]
  },
  {
   "cell_type": "code",
   "execution_count": null,
   "metadata": {},
   "outputs": [],
   "source": [
    "#Merge The ptrack_imm_box Data Frame Onto ptrack\n",
    "ptrack_imm_box = ptrack_imm_box[['gameId','playId','nflId_blocker','frameId', 'nflId_rusher', 'displayName_rusher', 'pff_positionLinedUp_rusher', 'x_rusher',\t'y_rusher', 's_rusher', 'a_rusher', 'dis_rusher', 'o_rusher', 'dir_rusher', 'rusher_in_imm_zone', 'blocker_rusher_distance', 'diff_btw_rusher_dir_blocker_o']]\n",
    "ptrack = ptrack.merge(ptrack_imm_box, left_on = ['gameId','playId','nflId','frameId'], right_on = ['gameId','playId','nflId_blocker','frameId'], how = 'left')"
   ]
  },
  {
   "attachments": {},
   "cell_type": "markdown",
   "metadata": {},
   "source": [
    "<font size = '5'> Filter ptrack To Frames Only Occuring During QB Possesion Of The Football, Creating ptrack_qb_poss </font>"
   ]
  },
  {
   "attachments": {},
   "cell_type": "markdown",
   "metadata": {},
   "source": [
    "<b> Starting At</b> - ball_snap     \n",
    "\n",
    "<b> Ending At</b> - qb_sack, qb_strip_sack, run, pass_forward (In That Order)"
   ]
  },
  {
   "cell_type": "code",
   "execution_count": null,
   "metadata": {},
   "outputs": [],
   "source": [
    "#Establish The Frame In Each Play At Which The Starting/Ending Of QB Possession Occurs With New Columns (Long Run-Time)\n",
    "\n",
    "#Temporary Data Frame\n",
    "ptrack_qb_poss = ptrack\n",
    "\n",
    "#Arrays of Starting and Ending Values\n",
    "poss_events = ['ball_snap', 'autoevent_ballsnap','pass_forward', 'autoevent_passforward', 'run', 'qb_sack', 'qb_strip_sack']\n",
    "\n",
    "#Add Frames Of Events To Each Frame of Each Plays\n",
    "for i in range(len(poss_events)):\n",
    "    temp = ptrack.loc[ptrack.event == poss_events[i]][['gameId', 'playId', 'frameId']].drop_duplicates()\n",
    "    ptrack_qb_poss = ptrack_qb_poss.merge(temp, on = ['gameId', 'playId'], how = \"left\")\n",
    "\n",
    "#Rename Columns\n",
    "indices_to_be_changed = [58, 59, 60, 61, 62, 63, 64, 15]\n",
    "names_to_insert = [\"ball_snap_event_frame\", \"autoevent_ballsnap_event_frame\", \"pass_forward_event_frame\", \"autoevent_passforward_event_frame\", \n",
    "                   \"run_event_frame\", \"qb_sack_event_frame\", \"qb_strip_sack_event_frame\", \"frameId\"]\n",
    "for i in range(len(indices_to_be_changed)):\n",
    "    ptrack_qb_poss.columns.values[indices_to_be_changed[i]] = names_to_insert[i]\n"
   ]
  },
  {
   "cell_type": "code",
   "execution_count": null,
   "metadata": {},
   "outputs": [],
   "source": [
    "#Reduce 'ball_snap', 'autoevent_ballsnap','pass_forward', and 'autoevent_passforward' To Just Two Columns\n",
    "\n",
    "#If Any Column of The Four of Interest Is Null, Fill Them So They Can Be Compared\n",
    "poss_events_to_be_condensed = ['ball_snap_event_frame', \"autoevent_ballsnap_event_frame\", \"pass_forward_event_frame\", \"autoevent_passforward_event_frame\"]\n",
    "for i in range(len(poss_events_to_be_condensed)):\n",
    "    if i <= 1: #For Ball Snap, Fill With A Frame Greater Than The Max In Any Play (Since We Want The Lesser)\n",
    "        ptrack_qb_poss[poss_events_to_be_condensed[i]] = ptrack_qb_poss[poss_events_to_be_condensed[i]].fillna(250)\n",
    "    else: #For Pass Forward, Fill With A Frame Lesser Than The Min In Any Play (Since We Want Greater Than)\n",
    "        ptrack_qb_poss[poss_events_to_be_condensed[i]] = ptrack_qb_poss[poss_events_to_be_condensed[i]].fillna(-1)\n",
    "    \n",
    "#Determine Earlier of \"ball_snap_event_frame\" and \"autoevent_ballsnap_event_frame\", Smaller Of The Two Into \"ball_snap_event_frame_\" (Doesn't Affect Calculations Much & More Time The Better)\n",
    "ptrack_qb_poss[\"ball_snap_event_frame_\"] = np.where(ptrack_qb_poss[\"ball_snap_event_frame\"] <= ptrack_qb_poss[\"autoevent_ballsnap_event_frame\"], ptrack_qb_poss[\"ball_snap_event_frame\"], ptrack_qb_poss[\"autoevent_ballsnap_event_frame\"])\n",
    "\n",
    "#Determine Earlier of \"pass_forward_event_frame\" and \"autoevent_passforward_event_frame\", Larger Of The Two Into \"pass_forward_event_frame_\" (Expect Rushers To Not Give Up Until Ball Fully Out of Pocket)\n",
    "ptrack_qb_poss[\"pass_forward_event_frame_\"] = np.where(ptrack_qb_poss[\"pass_forward_event_frame\"] >= ptrack_qb_poss[\"autoevent_passforward_event_frame\"], ptrack_qb_poss[\"pass_forward_event_frame\"], ptrack_qb_poss[\"autoevent_passforward_event_frame\"])\n",
    "\n",
    "#When Both Auto and Non-Auto Columns Are Null, Set Their Values Appropriately\n",
    "ptrack_qb_poss.loc[ptrack_qb_poss[\"ball_snap_event_frame_\"] == 250, \"ball_snap_event_frame_\"] = 1 #If No Ball Snap Is Recorded, Set QB Possesion Starting at Frame 1\n",
    "ptrack_qb_poss.loc[ptrack_qb_poss[\"pass_forward_event_frame_\"] == -1, \"pass_forward_event_frame_\"] = np.nan #If No Pass Forward Is Recorded, Don't Make It End Of Possession\n",
    "\n",
    "#Remove The Four Uneccessary Columns and Rename The Two Now In Their Place\n",
    "ptrack_qb_poss = ptrack_qb_poss.drop(['ball_snap_event_frame', 'autoevent_ballsnap_event_frame', 'pass_forward_event_frame','autoevent_passforward_event_frame'], axis = 1)\n",
    "ptrack_qb_poss = ptrack_qb_poss.rename(columns = {\"ball_snap_event_frame_\": \"ball_snap_event_frame\", \"pass_forward_event_frame_\": \"pass_forward_event_frame\"})"
   ]
  },
  {
   "cell_type": "code",
   "execution_count": null,
   "metadata": {},
   "outputs": [],
   "source": [
    "#Filter Out Rows That Don't Satisfy QB Possesion Conditions\n",
    "\n",
    "#Drop All That Come BEFORE Ball Snap\n",
    "ptrack_qb_poss = ptrack_qb_poss.drop(ptrack_qb_poss[ptrack_qb_poss.frameId < ptrack_qb_poss.ball_snap_event_frame].index) \n",
    "\n",
    "#Drop All That Come AFTER QB Sack, QB Strip Sack, Run, Pass Forward In That Order (If The Event Isn't In The Play Nothing Will Be Dropped)\n",
    "\n",
    "#If A QB Is Sacked, There's Nothing More A Line Can Do (Although Sometimes The QB Can Get The Pass Off). That's Why Strip & Normal Sacks Are The First Two.\n",
    "#If A QB Runs And Then Throws, We Say That He's Too Far Away For Linemen For It To Be Fair. If Pass Then Run, Count The Pass Frame First.\n",
    "\n",
    "ending_event_frames = ['qb_sack_event_frame', 'qb_strip_sack_event_frame', 'run_event_frame', 'pass_forward_event_frame']\n",
    "for i in range(len(ending_event_frames)):\n",
    "    ptrack_qb_poss = ptrack_qb_poss.drop(ptrack_qb_poss[ptrack_qb_poss['frameId'] > ptrack_qb_poss[ending_event_frames[i]]].index) "
   ]
  },
  {
   "cell_type": "code",
   "execution_count": null,
   "metadata": {},
   "outputs": [],
   "source": [
    "#Add In A Beginning Frame and Ending Frame Column For Each Play, In Addition To The Event Frames (Since Plays Can Have Multiple \"Possession Ending\" Events)\n",
    "frame_min = ptrack_qb_poss.groupby(['gameId', 'playId'])['frameId'].min().reset_index()\n",
    "frame_max = ptrack_qb_poss.groupby(['gameId', 'playId'])['frameId'].max().reset_index()\n",
    "\n",
    "#Rename The Frames \n",
    "frame_min = frame_min.rename(columns = {'frameId': 'frame_first'})\n",
    "frame_max = frame_max.rename(columns = {'frameId': 'frame_last'})\n",
    "\n",
    "#Merge The Frames Onto ptrack_qb_poss\n",
    "ptrack_qb_poss = ptrack_qb_poss.merge(frame_min, on = ['gameId', 'playId'], how = \"inner\")\n",
    "ptrack_qb_poss = ptrack_qb_poss.merge(frame_max, on = ['gameId', 'playId'], how = \"inner\")"
   ]
  },
  {
   "attachments": {},
   "cell_type": "markdown",
   "metadata": {},
   "source": [
    "<font size = '5'> Exclude Block Types, Positions, Columns That Clutter The Data, And Non-Traditional Dropbacks </font>"
   ]
  },
  {
   "cell_type": "code",
   "execution_count": null,
   "metadata": {},
   "outputs": [],
   "source": [
    "#Remove Columns: run_event_frame, qb_sack_event_frame, qb_strip_sack_event_frame, pass_forward_event_frame\n",
    "ptrack_qb_poss = ptrack_qb_poss.drop(columns = ['run_event_frame','qb_sack_event_frame', 'qb_strip_sack_event_frame', 'pass_forward_event_frame', 'ball_snap_event_frame'])\n",
    "\n",
    "#Remove Block Types: Backfield Help, Chip Blocks, No Block, and Set & Release\n",
    "ptrack_qb_poss = ptrack_qb_poss.loc[(ptrack_qb_poss.pff_blockType != 'BH') & (ptrack_qb_poss.pff_blockType != 'CH') & (ptrack_qb_poss.pff_blockType != 'NB') & (ptrack_qb_poss.pff_blockType != 'SR')]\n",
    "\n",
    "#Only Keep Five Positions Of Interest (LT, LG, C, RG, RT)\n",
    "ptrack_qb_poss = ptrack_qb_poss.loc[(ptrack_qb_poss.pff_positionLinedUp == 'LT') | (ptrack_qb_poss.pff_positionLinedUp == 'LG') | (ptrack_qb_poss.pff_positionLinedUp == 'C') | (ptrack_qb_poss.pff_positionLinedUp == 'RG') | (ptrack_qb_poss.pff_positionLinedUp == 'RT')]\n",
    "\n",
    "#Only Keep Traditional Drop Backs, As Scrambles Present Too Much Noise And Can Be To Either Side, Penalizing Guards/Tackles of That Side\n",
    "ptrack_qb_poss = ptrack_qb_poss.merge(pbp[['gameId', 'playId', 'dropBackType']], on = ['gameId', 'playId'], how = 'left')\n",
    "ptrack_qb_poss = ptrack_qb_poss[ptrack_qb_poss.dropBackType == \"TRADITIONAL\"]"
   ]
  },
  {
   "attachments": {},
   "cell_type": "markdown",
   "metadata": {},
   "source": [
    "<font size = '5'> Filter Data To Only Include Pass Blocking Plays Where The Player Rusher Is Known And Is Classified As A Pass Rusher </font>"
   ]
  },
  {
   "cell_type": "code",
   "execution_count": null,
   "metadata": {},
   "outputs": [],
   "source": [
    "#These Are All The Columns For Which The Immediate Zone Was Calculated And Where The QB Has Possession of The Football\n",
    "ptrack_qb_poss_block = ptrack_qb_poss.loc[(ptrack_qb_poss['pff_blockType'] != '0') & (ptrack_qb_poss['pff_nflIdBlockedPlayer'] == ptrack_qb_poss['nflId_rusher'])]\n",
    "\n",
    "#Create Composite PK of gameId, playId, and nflId \n",
    "ptrack_qb_poss_block[['gameId', 'playId', 'nflId']] = ptrack_qb_poss_block[['gameId', 'playId', 'nflId']].astype(str)\n",
    "ptrack_qb_poss_block['game_play_nfl_Id'] = ptrack_qb_poss_block[[\"gameId\", \"playId\", 'nflId']].apply(\"-\".join, axis=1)"
   ]
  },
  {
   "attachments": {},
   "cell_type": "markdown",
   "metadata": {},
   "source": [
    "<font size = '5'> Filter Out 3% (1,269 of 41,367) Of Blocking Plays Where Rushers Never Enter The Immediate Zone </font>"
   ]
  },
  {
   "cell_type": "code",
   "execution_count": null,
   "metadata": {},
   "outputs": [],
   "source": [
    "#Find Blocks That Don't Have The Rusher Enter The Immediate Zone\n",
    "count_no_imm_box = pd.DataFrame(ptrack_qb_poss_block.groupby('game_play_nfl_Id')['rusher_in_imm_zone'].value_counts())\n",
    "count_no_imm_box = count_no_imm_box.rename(columns = {'rusher_in_imm_zone': 'count'}).reset_index()\n",
    "\n",
    "#Filter Out The Rows\n",
    "blocks_rusher_not_in_imm_zone = count_no_imm_box = count_no_imm_box[count_no_imm_box.groupby('game_play_nfl_Id')['game_play_nfl_Id'].transform('size') < 2].loc[count_no_imm_box['rusher_in_imm_zone'] == False]['game_play_nfl_Id'].reset_index(())\n",
    "ptrack_qb_poss_block = ptrack_qb_poss_block[~ptrack_qb_poss_block.game_play_nfl_Id.isin(blocks_rusher_not_in_imm_zone.game_play_nfl_Id)]"
   ]
  },
  {
   "attachments": {},
   "cell_type": "markdown",
   "metadata": {},
   "source": [
    "<font size=\"5\"> Export Player Tracking Data Frame With New Fields </font>"
   ]
  },
  {
   "cell_type": "code",
   "execution_count": null,
   "metadata": {},
   "outputs": [],
   "source": [
    "#Export Distance Data Frame To .csv (Long Run Time)\n",
    "# ptrack.to_csv(\"C:/Users/Peter/Python Scripts/Case Competitions/NFL Big Data Bowl 2023/merged_data/ptrack.csv\")\n",
    "ptrack_qb_poss_block.to_csv(\"C:/Users/Peter/Python Scripts/Case Competitions/NFL Big Data Bowl 2023/merged_data/ptrack_qb_poss.csv\")"
   ]
  }
 ],
 "metadata": {
  "kernelspec": {
   "display_name": "Python 3",
   "language": "python",
   "name": "python3"
  },
  "language_info": {
   "codemirror_mode": {
    "name": "ipython",
    "version": 3
   },
   "file_extension": ".py",
   "mimetype": "text/x-python",
   "name": "python",
   "nbconvert_exporter": "python",
   "pygments_lexer": "ipython3",
   "version": "3.10.9 (tags/v3.10.9:1dd9be6, Dec  6 2022, 20:01:21) [MSC v.1934 64 bit (AMD64)]"
  },
  "orig_nbformat": 4,
  "vscode": {
   "interpreter": {
    "hash": "0734c24ccee641e8c1aa56e5abe0e6d58c5e64b0808290a0db05a6d9678c0817"
   }
  }
 },
 "nbformat": 4,
 "nbformat_minor": 2
}
